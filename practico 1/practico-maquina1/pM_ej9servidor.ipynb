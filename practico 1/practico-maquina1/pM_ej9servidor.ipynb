{
  "cells": [
    {
      "cell_type": "markdown",
      "metadata": {
        "id": "PToMowWpVlYy"
      },
      "source": [
        "9. Haciendo uso de sockets, implemente un servidor y un cliente (a modo de ejemplo, se proveen un servidor y un cliente en lenguaje Python), que permita desde el cliente, enviar un archivo comprimido utilizando el alfabeto ABCDEFGH, y en el servidor, descomprimir el archivo"
      ]
    },
    {
      "cell_type": "markdown",
      "metadata": {
        "id": "qFQwesTPVz2N"
      },
      "source": [
        "Este programa implementa un **servidor TCP en Python** que recibe datos comprimidos usando Huffman y los descomprime.  \n",
        "Se encarga de reconstruir el texto original y guardarlo en un archivo `descomprimido.txt`."
      ]
    },
    {
      "cell_type": "code",
      "execution_count": 1,
      "metadata": {
        "id": "ZnuNlxlBWHUL"
      },
      "outputs": [],
      "source": [
        "import socket\n",
        "import ast"
      ]
    },
    {
      "cell_type": "markdown",
      "metadata": {
        "id": "ic8uetrHV7T0"
      },
      "source": [
        "La función `descomprimir` recibe:\n",
        "- `codigo_bin`: el texto comprimido en binario.\n",
        "- `tabla`: la tabla de Huffman enviada por el cliente.\n",
        "\n",
        "Proceso:\n",
        "1. Invierte la tabla para buscar códigos de manera rápida.\n",
        "2. Recorre el código binario acumulando bits.\n",
        "3. Cada vez que coincide un código, se agrega el carácter correspondiente al resultado."
      ]
    },
    {
      "cell_type": "code",
      "execution_count": 2,
      "metadata": {
        "id": "hqzyVRewWJqb"
      },
      "outputs": [],
      "source": [
        "def descomprimir(codigo_bin, tabla):\n",
        "    # Invertimos la tabla para búsqueda rápida\n",
        "    inv_tabla = {v: chr(k) for k, v in tabla.items()}\n",
        "    actual = \"\"\n",
        "    resultado = \"\"\n",
        "    for bit in codigo_bin:\n",
        "        actual += bit\n",
        "        if actual in inv_tabla:\n",
        "            resultado += inv_tabla[actual]\n",
        "            actual = \"\"\n",
        "    return resultado"
      ]
    },
    {
      "cell_type": "markdown",
      "metadata": {
        "id": "ni_1mQv0WNz6"
      },
      "source": [
        "En esta sección se configura el servidor:\n",
        "- IP: `0.0.0.0` (acepta conexiones desde cualquier interfaz)\n",
        "- Puerto: `5555`  \n",
        "\n",
        "El servidor:\n",
        "1. Espera a que un cliente se conecte.\n",
        "2. Recibe los datos enviados: primero la tabla de Huffman y luego el texto comprimido.\n",
        "3. Separa la tabla del código y la convierte de cadena a diccionario.\n",
        "4. Descomprime el texto usando la función `descomprimir`.\n",
        "5. Imprime la información recibida y guarda el resultado en `descomprimido.txt`.\n",
        "6. Cierra la conexión con el cliente."
      ]
    },
    {
      "cell_type": "code",
      "execution_count": 3,
      "metadata": {
        "colab": {
          "base_uri": "https://localhost:8080/",
          "height": 219
        },
        "id": "g_bYFlrBZD9X",
        "outputId": "c915e965-e748-4554-c05a-e594f5935d74"
      },
      "outputs": [
        {
          "name": "stdout",
          "output_type": "stream",
          "text": [
            "[*] Esperando conexiones en 0.0.0.0:5555\n",
            "[*] Conexión establecida con 127.0.0.1:52259\n",
            "[*] Tabla recibida: {65: '0', 66: '10', 67: '1100', 72: '11010', 68: '11011', 69: '1110', 71: '11110', 70: '11111'}\n",
            "[*] Texto comprimido recibido: 000010101011001100110110011101110111111111011010000101010\n",
            "[*] Texto descomprimido: AAAABBBCCDAAEEFGHAAABBB\n"
          ]
        }
      ],
      "source": [
        "ip = \"0.0.0.0\"\n",
        "puerto = 5555\n",
        "\n",
        "servidor = socket.socket(socket.AF_INET, socket.SOCK_STREAM)\n",
        "servidor.bind((ip, puerto))\n",
        "servidor.listen(1)\n",
        "\n",
        "print(f\"[*] Esperando conexiones en {ip}:{puerto}\")\n",
        "\n",
        "cliente, direccion = servidor.accept()\n",
        "print(f\"[*] Conexión establecida con {direccion[0]}:{direccion[1]}\")\n",
        "\n",
        "# Recibir datos\n",
        "datos = cliente.recv(8192).decode(\"utf-8\")\n",
        "\n",
        "# Separar tabla y código\n",
        "tabla_str, comprimido = datos.split(\"\\n\", 1)\n",
        "tabla = ast.literal_eval(tabla_str)\n",
        "\n",
        "print(\"[*] Tabla recibida:\", tabla)\n",
        "print(\"[*] Texto comprimido recibido:\", comprimido)\n",
        "\n",
        "# Descomprimir\n",
        "texto_descomprimido = descomprimir(comprimido, tabla)\n",
        "\n",
        "print(\"[*] Texto descomprimido:\", texto_descomprimido)\n",
        "\n",
        "# Guardar en archivo\n",
        "with open(\"descomprimido.txt\", \"w\") as f:\n",
        "    f.write(texto_descomprimido)\n",
        "\n",
        "cliente.close()\n",
        "servidor.close()\n"
      ]
    }
  ],
  "metadata": {
    "colab": {
      "provenance": []
    },
    "kernelspec": {
      "display_name": ".venv",
      "language": "python",
      "name": "python3"
    },
    "language_info": {
      "codemirror_mode": {
        "name": "ipython",
        "version": 3
      },
      "file_extension": ".py",
      "mimetype": "text/x-python",
      "name": "python",
      "nbconvert_exporter": "python",
      "pygments_lexer": "ipython3",
      "version": "3.11.0"
    }
  },
  "nbformat": 4,
  "nbformat_minor": 0
}
