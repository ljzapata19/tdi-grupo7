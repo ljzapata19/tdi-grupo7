{
  "cells": [
    {
      "cell_type": "markdown",
      "metadata": {
        "id": "RHy5uS3DULzZ"
      },
      "source": [
        "9. Haciendo uso de sockets, implemente un servidor y un cliente (a modo de ejemplo, se proveen un servidor y un\n",
        "cliente en lenguaje Python), que permita desde el cliente, enviar un archivo comprimido utilizando el alfabeto\n",
        "ABCDEFGH, y en el servidor, descomprimir el archivo."
      ]
    },
    {
      "cell_type": "markdown",
      "metadata": {
        "id": "A316IVDTUO3-"
      },
      "source": [
        "Este programa implementa un **cliente TCP en Python** que comprime texto usando el algoritmo de Huffman antes de enviarlo a un servidor.  \n",
        "La compresión se realiza para reducir el tamaño de los datos transmitidos."
      ]
    },
    {
      "cell_type": "code",
      "execution_count": 1,
      "metadata": {
        "id": "6hzcLvQFTel7"
      },
      "outputs": [],
      "source": [
        "import socket\n",
        "import heapq\n",
        "import os\n",
        "from collections import defaultdict"
      ]
    },
    {
      "cell_type": "markdown",
      "metadata": {
        "id": "LgUWYXFbUurm"
      },
      "source": [
        "La clase `Nodo` representa cada elemento del árbol de Huffman.  \n",
        "Cada nodo guarda:\n",
        "- Un **carácter** y su **frecuencia**.\n",
        "- Referencias a sus nodos **izquierdo** y **derecho**.  \n",
        "\n",
        "También se define `__lt__` para que los nodos puedan ser comparados dentro de una **cola de prioridad (heap)**."
      ]
    },
    {
      "cell_type": "code",
      "execution_count": 2,
      "metadata": {
        "id": "EzwoS689ThbK"
      },
      "outputs": [],
      "source": [
        "class Nodo:\n",
        "    def __init__(self, caracter, frecuencia):\n",
        "        self.caracter = caracter\n",
        "        self.frecuencia = frecuencia\n",
        "        self.izq = None\n",
        "        self.der = None\n",
        "\n",
        "    def __lt__(self, otro):\n",
        "        return self.frecuencia < otro.frecuencia"
      ]
    },
    {
      "cell_type": "markdown",
      "metadata": {
        "id": "DlpIYaitU-yG"
      },
      "source": [
        "La función `construir_arbol` recibe un texto y:\n",
        "1. Calcula la frecuencia de cada carácter.\n",
        "2. Crea un heap con nodos iniciales.\n",
        "3. Combina nodos de menor frecuencia hasta obtener un único árbol raíz."
      ]
    },
    {
      "cell_type": "code",
      "execution_count": 3,
      "metadata": {
        "id": "OSrxWMihU_qO"
      },
      "outputs": [],
      "source": [
        "def construir_arbol(texto):\n",
        "    frecuencia = defaultdict(int)\n",
        "    for c in texto:\n",
        "        frecuencia[c] += 1\n",
        "\n",
        "    heap = [Nodo(c, f) for c, f in frecuencia.items()]\n",
        "    heapq.heapify(heap)\n",
        "\n",
        "    while len(heap) > 1:\n",
        "        n1 = heapq.heappop(heap)\n",
        "        n2 = heapq.heappop(heap)\n",
        "        combinado = Nodo(None, n1.frecuencia + n2.frecuencia)\n",
        "        combinado.izq, combinado.der = n1, n2\n",
        "        heapq.heappush(heap, combinado)\n",
        "\n",
        "    return heap[0]"
      ]
    },
    {
      "cell_type": "markdown",
      "metadata": {
        "id": "sAuH-EhUVGzv"
      },
      "source": [
        "La función `generar_codigos` recorre el árbol y asigna:\n",
        "- `0` cuando baja a la izquierda.  \n",
        "- `1` cuando baja a la derecha.  \n",
        "\n",
        "De esta forma se construye una **tabla de códigos binarios** única para cada carácter."
      ]
    },
    {
      "cell_type": "code",
      "execution_count": 4,
      "metadata": {
        "id": "FNQ-Ne45VHel"
      },
      "outputs": [],
      "source": [
        "def generar_codigos(nodo, codigo=\"\", tabla={}):\n",
        "    if nodo is None:\n",
        "        return\n",
        "    if nodo.caracter is not None:\n",
        "        tabla[nodo.caracter] = codigo\n",
        "    generar_codigos(nodo.izq, codigo + \"0\", tabla)\n",
        "    generar_codigos(nodo.der, codigo + \"1\", tabla)\n",
        "    return tabla"
      ]
    },
    {
      "cell_type": "markdown",
      "metadata": {
        "id": "7pti1DU2VLzl"
      },
      "source": [
        "La función `comprimir`:\n",
        "1. Construye el árbol de Huffman.\n",
        "2. Obtiene la tabla de códigos.\n",
        "3. Reemplaza cada carácter por su código binario, generando el texto comprimido."
      ]
    },
    {
      "cell_type": "code",
      "execution_count": 5,
      "metadata": {
        "id": "L0rtjys3VMi-"
      },
      "outputs": [],
      "source": [
        "def comprimir(texto):\n",
        "    raiz = construir_arbol(texto)\n",
        "    tabla = generar_codigos(raiz)\n",
        "    comprimido = \"\".join([tabla[c] for c in texto])\n",
        "    return comprimido, tabla"
      ]
    },
    {
      "cell_type": "markdown",
      "metadata": {
        "id": "byeWJuOsVTVc"
      },
      "source": [
        "En esta sección el programa se conecta al **servidor** usando sockets:\n",
        "- Dirección: `127.0.0.1`  \n",
        "- Puerto: `5555`  \n",
        "\n",
        "Luego:\n",
        "1. Lee el archivo `comprimido.txt`.\n",
        "2. Comprime el texto con Huffman.\n",
        "3. Imprime el original, la tabla de códigos y el resultado comprimido.\n",
        "4. Envía al servidor **la tabla y el texto comprimido** en un solo paquete."
      ]
    },
    {
      "cell_type": "code",
      "execution_count": 6,
      "metadata": {
        "colab": {
          "base_uri": "https://localhost:8080/",
          "height": 219
        },
        "id": "FeSHLTwMeJth",
        "outputId": "9ea62fd5-ee76-465b-a354-e70e40016a42"
      },
      "outputs": [
        {
          "name": "stdout",
          "output_type": "stream",
          "text": [
            "[*] Texto original: b'AAAABBBCCDAAEEFGHAAABBB'\n",
            "[*] Tabla de Huffman: {65: '0', 66: '10', 67: '1100', 72: '11010', 68: '11011', 69: '1110', 71: '11110', 70: '11111'}\n",
            "[*] Texto comprimido: 000010101011001100110110011101110111111111011010000101010\n"
          ]
        }
      ],
      "source": [
        "servidor = \"127.0.0.1\"\n",
        "puerto = 5555\n",
        "\n",
        "cliente = socket.socket(socket.AF_INET, socket.SOCK_STREAM)\n",
        "cliente.connect((servidor, puerto))\n",
        "\n",
        "# Texto de ejemplo con alfabeto ABCDEFGH\n",
        "#texto_original = \"AAAABBBCCDAAEEFGHAAABBB\"\n",
        "archivo = \"comprimido.txt\"\n",
        "\n",
        "with open(archivo, \"rb\") as f:\n",
        "    texto_original = f.read()\n",
        "\n",
        "\n",
        "comprimido, tabla = comprimir(texto_original)\n",
        "\n",
        "print(\"[*] Texto original:\", texto_original)\n",
        "print(\"[*] Tabla de Huffman:\", tabla)\n",
        "print(\"[*] Texto comprimido:\", comprimido)\n",
        "\n",
        "# Enviar datos: primero la tabla y luego el texto comprimido\n",
        "paquete = str(tabla).encode(\"utf-8\") + b\"\\n\" + comprimido.encode(\"utf-8\")\n",
        "cliente.sendall(paquete)\n",
        "\n",
        "cliente.close()\n"
      ]
    }
  ],
  "metadata": {
    "colab": {
      "provenance": []
    },
    "kernelspec": {
      "display_name": ".venv",
      "language": "python",
      "name": "python3"
    },
    "language_info": {
      "codemirror_mode": {
        "name": "ipython",
        "version": 3
      },
      "file_extension": ".py",
      "mimetype": "text/x-python",
      "name": "python",
      "nbconvert_exporter": "python",
      "pygments_lexer": "ipython3",
      "version": "3.11.0"
    }
  },
  "nbformat": 4,
  "nbformat_minor": 0
}
